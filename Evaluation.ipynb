{
 "cells": [
  {
   "cell_type": "code",
   "execution_count": 1,
   "metadata": {},
   "outputs": [],
   "source": [
    "import os, sys, codecs, time, datetime\n",
    "import fileinput\n",
    "import os.path\n",
    "import pickle\n",
    "from io import StringIO\n",
    "from subprocess import call\n",
    "\n",
    "\n",
    "from docopt import docopt\n",
    "from propsde.applications.viz_tree import DepTreeVisualizer\n",
    "%load_ext autoreload\n",
    "%autoreload 2\n",
    "import propsde.applications.run as run\n",
    "import sys\n",
    "if sys.version_info[0] >= 3:\n",
    "    unicode = str\n"
   ]
  },
  {
   "cell_type": "markdown",
   "metadata": {},
   "source": [
    "### CorZu 2.0"
   ]
  },
  {
   "cell_type": "code",
   "execution_count": 2,
   "metadata": {},
   "outputs": [
    {
     "data": {
      "text/plain": [
       "0"
      ]
     },
     "execution_count": 2,
     "metadata": {},
     "output_type": "execute_result"
    }
   ],
   "source": [
    "import os\n",
    "import urllib.request\n",
    "import urllib.parse\n",
    "\n",
    "def _parse_dependencies_to_conll_file(text, conll_name):\n",
    "    params = {\n",
    "        \"text\": text,\n",
    "        \"format\": \"conll\"\n",
    "    }\n",
    "    args = urllib.parse.urlencode(params).encode(\"utf-8\")\n",
    "    req = \"http://localhost:5003/parse/?\"+args.decode(\"utf-8\")\n",
    "    try:\n",
    "        f = urllib.request.urlopen(req)\n",
    "        if conll_name:\n",
    "            file = open(conll_name,'w')\n",
    "            file.write(f.read().decode('utf-8'))\n",
    "        else:\n",
    "            print(f.read().decode('utf-8'))\n",
    "        return 0\n",
    "    except Exception as ex:\n",
    "        print(ex)\n",
    "        return 1\n",
    "\n",
    "def _create_markables(conll_name, markable_name):\n",
    "    cmd = \"python ext/CorZu_v2.0/extract_mables_from_parzu.py \" + conll_name + \" > \" + markable_name\n",
    "    err = os.system(cmd)\n",
    "    return err\n",
    "\n",
    "def execute_corzu(text, conll_name=\"output.conll\", markable_name=\"markable\", output=\"corzu_export\"):\n",
    "    _parse_dependencies_to_conll_file(text, conll_name)\n",
    "    err = _create_markables(conll_name, markable_name)\n",
    "    if err == 0:\n",
    "        cmd = \"python ext/CorZu_v2.0/corzu.py \" + markable_name + \" \" + conll_name + \" \" + output    \n",
    "        err = os.system(cmd)\n",
    "        return err"
   ]
  },
  {
   "cell_type": "markdown",
   "metadata": {},
   "source": [
    "### Read Tuebadz"
   ]
  },
  {
   "cell_type": "code",
   "execution_count": 3,
   "metadata": {},
   "outputs": [],
   "source": [
    "def read_tuebadz(path):\n",
    "    i = 0\n",
    "    raw_data = {}\n",
    "    gold_standard = {}\n",
    "    sentences = []\n",
    "    for line in open(path,'r').readlines():\n",
    "        li=line.strip()\n",
    "        if li.startswith(\"#\"):\n",
    "            li = li.split()\n",
    "            if li[1] == 'newdoc':\n",
    "                if 'newdoc' in raw_data:\n",
    "                    sentences.append(raw_data)\n",
    "                    raw_data = {}\n",
    "                else:\n",
    "                    raw_data['newdoc'] = li[4]\n",
    "                    new_doc = li[4]\n",
    "                    gold_standard[new_doc] = \"\"\n",
    "            if li[1] == 'sent_id':\n",
    "                sent_id = li[3]\n",
    "                raw_data['sent_id'] = li[3]\n",
    "            if li[1] == 'text':\n",
    "                if \"text\" in raw_data:\n",
    "                    raw_data[\"text\"] += line[9:].rstrip(\" \\n\")\n",
    "                else:\n",
    "                    raw_data[\"text\"] = line[9:].rstrip(\" \\n\") + \". \"\n",
    "        else:\n",
    "            gold_standard[new_doc] += line\n",
    "    sentences.append(raw_data)\n",
    "    return sentences, gold_standard\n",
    "            \n",
    "\n",
    "raw_sentences, gold_standard = read_tuebadz(\"tuebadz-11.0-conll-u-v2.txt\")"
   ]
  },
  {
   "cell_type": "code",
   "execution_count": 9,
   "metadata": {},
   "outputs": [
    {
     "name": "stdout",
     "output_type": "stream",
     "text": [
      "SPD/CDU/AfB für Daewoo-Millionen. Aber Bremerhavens AfB fordert jetzt UntersuchungsausschußDie Wirtschaftsförderausschüsse haben gestern ein Finanzierungsvolumen von insgesamt 86 Millionen Mark beschlossen, mit denen das Vulkan-Gelände für die Ansiedlung des Autoimporteurs Egerland frei gemacht werden kann.Egerland soll die 10.000 bis 20.000 koreanischen Daewoo-Pkw, die derzeit von der Firma Mosolf in Bremerhaven abgeladen werden, in Vegesack abladen.Der Chef der Bremer Investitions-Gesellschaft (BIG), Ulrich Keller, erklärte dem Ausschuß, es \"zeichne sich die konkrete Möglichkeit\" ab, daß Daewoo auch ein Ersatzteillager in Vegesack einrichtet, berichteten SPD-Wirtschaftspolitiker.Auch die Vertreter der AfB stimmten den 86 Millionen zu, während Bremerhavens AfB-Vorsitzender Günter Diekhöner an seiner Forderung festhält, ein Untersuchungsausschuß solle die undurchsichtigen Vorgänge prüfen.Aus seiner Sicht schadet die Verlagerung des Auto-Geschäftes den Bremerhavener Interessen.Heftige Kritik und Gegenstimmen kamen in dem Ausschuß nur von den Grünen, die darauf verwiesen, daß die bisher auf dem Vulkan-Gelände arbeitetenden Betriebe für Daewoo Arbeitsplätze abbauen müßten.Wirtschaftspolitisch mache ein Auto-Umschlagsort Vegesack keinen Sinn:\"Die wollten die BLG schonen.\"K. W.\"Gleichstellung statt Barrieren\"Behinderte Menschen veranstalteten Protesttag in BremenFehlende Niederflurbusse, zu viele Treppenstufen an öffentlichen Gebäuden und immer noch keine \"Schreibtelefone\" für Gehörlose an Bahnhöfen: Die Mängelliste der Bremer Behindertenverbänden ist lang.Für ein \"barrierefreies Bremen\" gingen deshalb gestern mehrere hundert behinderte Menschen auf die Straße- und demonstrierten am \"7. Bremer Protesttag gegen Diskriminierung\" für \"Gleichstellung statt Barrieren\".Noch immer könnten Gehörlose zum Beispiel nicht am Bahnhof \"telefonieren, um Freunden zu sagen, daß ihr Zug Verspätung hat\", erklärt Mirko Stokil von der \"Lebenshilfe\".Auch Busse und Bahnen im öffentlichen Nahverkehr seien noch lange nicht alle behindertengerecht gestaltet.\"Es gibt zwar ein paar Niederflurbusse, aber das reicht ja nicht\", sagt er.Und ein \"Landesbehindertenbeauftragter, der so etwas forcieren könnte, ist in Bremen immer noch nicht in Sicht\", so die gestrige Manöverkritik bei der Abschlußkundgebung des Protestages auf dem Bremer Markplatz.\"Warum immer wir?\" fragten die Versammelten deshalb auf Plakaten- und zogen mit ihren großen Transparenten und Samba-Rhythmen am Mittag vom Steintor über den Ostertorsteinweg zum Markplatz.Am Vormittag hatten sich Betroffene bereits mit Vertretern aus dem Bauressort zur Podiumsdiskussion getroffen- um neben neuen Baugesetzen auch mehr Mitspracherechte einzufordern.\"Bei bedeutenden Bau- und Verkehrsplanungen müssen unsere Einflußmöglichkeiten gestärkt werden\", fordern die Behindertenverbände.Denn:\"Wir Behinderte müssen doch selbst bestimmen können, was behindertengerechtes Bauen\" eigentlich bedeutet.kat\n",
      "HTTP Error 408: REQUEST TIMEOUT\n"
     ]
    },
    {
     "data": {
      "text/plain": [
       "0"
      ]
     },
     "execution_count": 9,
     "metadata": {},
     "output_type": "execute_result"
    }
   ],
   "source": [
    "print(raw_sentences[1][\"text\"])\n",
    "execute_corzu(raw_sentences[1][\"text\"])"
   ]
  },
  {
   "cell_type": "code",
   "execution_count": null,
   "metadata": {},
   "outputs": [],
   "source": []
  }
 ],
 "metadata": {
  "kernelspec": {
   "display_name": "Python 3",
   "language": "python",
   "name": "python3"
  },
  "language_info": {
   "codemirror_mode": {
    "name": "ipython",
    "version": 3
   },
   "file_extension": ".py",
   "mimetype": "text/x-python",
   "name": "python",
   "nbconvert_exporter": "python",
   "pygments_lexer": "ipython3",
   "version": "3.6.9"
  }
 },
 "nbformat": 4,
 "nbformat_minor": 4
}
