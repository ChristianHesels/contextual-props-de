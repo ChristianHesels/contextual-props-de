{
 "cells": [
  {
   "cell_type": "code",
   "execution_count": 1,
   "metadata": {},
   "outputs": [],
   "source": [
    "import os, sys, codecs, time, datetime\n",
    "import fileinput\n",
    "import os.path\n",
    "from io import StringIO\n",
    "from subprocess import call\n",
    "\n",
    "\n",
    "from docopt import docopt\n",
    "from propsde.applications.viz_tree import DepTreeVisualizer\n",
    "\n",
    "import propsde.applications.run as run\n",
    "import sys\n",
    "if sys.version_info[0] >= 3:\n",
    "    unicode = str"
   ]
  },
  {
   "cell_type": "code",
   "execution_count": 2,
   "metadata": {},
   "outputs": [],
   "source": [
    "import pickle"
   ]
  },
  {
   "cell_type": "code",
   "execution_count": 3,
   "metadata": {},
   "outputs": [],
   "source": [
    "with open('polizeiberichte.pkl', 'rb') as f:\n",
    "    data = pickle.load(f, encoding=\"utf8\")"
   ]
  },
  {
   "cell_type": "code",
   "execution_count": 4,
   "metadata": {},
   "outputs": [
    {
     "name": "stdout",
     "output_type": "stream",
     "text": [
      "Der Polizeiliche Staatsschutz beim Landeskriminalamt ermittelt wegen gemeinschädlicher Sachbeschädigung an einem jüdischen Mahnmal in Tiergarten. Passanten hatten heute früh gegen 8.50 Uhr gelbe Schmierereien an der Gedenktafel in der Levetzowstraße entdeckt und die Polizei alarmiert.\n"
     ]
    }
   ],
   "source": [
    "text_example = data[72][\"text1\"]\n",
    "print(text_example)"
   ]
  },
  {
   "cell_type": "code",
   "execution_count": 5,
   "metadata": {},
   "outputs": [],
   "source": [
    "text_example = text_example.replace(\". \", \".\\n\")"
   ]
  },
  {
   "cell_type": "code",
   "execution_count": 6,
   "metadata": {},
   "outputs": [
    {
     "name": "stdout",
     "output_type": "stream",
     "text": [
      "Der Polizeiliche Staatsschutz beim Landeskriminalamt ermittelt wegen gemeinschädlicher Sachbeschädigung an einem jüdischen Mahnmal in Tiergarten.\n",
      "Passanten hatten heute früh gegen 8.50 Uhr gelbe Schmierereien an der Gedenktafel in der Levetzowstraße entdeckt und die Polizei alarmiert.\n"
     ]
    }
   ],
   "source": [
    "print(text_example)"
   ]
  },
  {
   "cell_type": "code",
   "execution_count": 7,
   "metadata": {},
   "outputs": [
    {
     "name": "stdout",
     "output_type": "stream",
     "text": [
      "running mate-tools\n",
      "lemmatizing\n",
      "parsing + tagging\n",
      "collapsing\n",
      "java -jar ext/org.jobimtext.collapsing.jar -i tmp/parsed.conll06 -o tmp -sf -l de -r ext/resources/german_modified.txt -f c -np -nt\n"
     ]
    }
   ],
   "source": [
    "file = codecs.open(\"examples.txt\", encoding='utf8')\n",
    "gs = run.parseSentences(file)"
   ]
  },
  {
   "cell_type": "code",
   "execution_count": 8,
   "metadata": {},
   "outputs": [
    {
     "name": "stdout",
     "output_type": "stream",
     "text": [
      "fahren:(subj:Der regierende Bürgermeister , prep_zu:Rathaus )\n",
      "gehen:(subj:er , prep_in:roten Rathaus , prep_in:den Sitzungssaal )\n",
      "liegen:(subj:Der alte Sitzungssaal , prep_neben:dem Büro von Michael Müller )\n"
     ]
    }
   ],
   "source": [
    "for g,tree in gs: \n",
    "    for prop in g.getPropositions('pdf'):\n",
    "        curProp = '{0}:({1})'.format(prop.pred,\n",
    "                                      \", \".join([rel + \":\" + arg for rel,arg in sorted(prop.args,key=lambda rel:prop.rel_order(rel[0]))]))\n",
    "        print(curProp)"
   ]
  },
  {
   "cell_type": "code",
   "execution_count": 9,
   "metadata": {},
   "outputs": [
    {
     "name": "stdout",
     "output_type": "stream",
     "text": [
      "[['subj', 'Der alte Sitzungssaal '], ['prep_neben', 'dem Büro von Michael Müller ']]\n",
      "liegen\n"
     ]
    }
   ],
   "source": [
    "prop = g.getPropositions('pdf')[0]\n",
    "print(prop.args)\n",
    "print(prop.pred)"
   ]
  },
  {
   "cell_type": "code",
   "execution_count": 16,
   "metadata": {},
   "outputs": [
    {
     "name": "stdout",
     "output_type": "stream",
     "text": [
      "Der regierende Bürgermeister fährt zum Rathaus .\n",
      "1\t2,regierende\tADJA\t0\t0\tmod,2\n",
      "2\t3,Bürgermeister\tNN\t0\t0\tsubj,3\n",
      "3\t4,fährt\tVVFIN\t1\t1\t\n",
      "4\t6,Rathaus\tNN\t0\t0\tprep_zu,3\n",
      "\n"
     ]
    }
   ],
   "source": [
    "test = gs[0][0]\n",
    "print(test)"
   ]
  },
  {
   "cell_type": "code",
   "execution_count": 22,
   "metadata": {},
   "outputs": [],
   "source": []
  },
  {
   "cell_type": "code",
   "execution_count": 120,
   "metadata": {},
   "outputs": [],
   "source": [
    "from itertools import compress\n",
    "\n",
    "def _map_article_of_subj_to_pronoun(arg):\n",
    "    personal_pronouns = {\"der\": \"er\", \"das\": \"es\", \"die\": \"sie\"}\n",
    "    if \"subj\" in arg:\n",
    "        words = arg[1].lower().split()\n",
    "        pronoun_place = list(word in personal_pronouns for word in words)\n",
    "        pronoun = list(compress(words, pronoun_place))\n",
    "        if len(pronoun) == 1:\n",
    "            current_subj = (personal_pronouns[pronoun[0]], arg[1])\n",
    "            return current_subj\n",
    "    return None\n",
    "    \n",
    "    "
   ]
  },
  {
   "cell_type": "code",
   "execution_count": 166,
   "metadata": {},
   "outputs": [
    {
     "name": "stdout",
     "output_type": "stream",
     "text": [
      "['der', 'regierende', 'bürgermeister']\n",
      "['rathaus']\n",
      "['roten', 'rathaus']\n",
      "['Der regierende Bürgermeister ']\n",
      "['den', 'sitzungssaal']\n",
      "['der', 'alte', 'sitzungssaal']\n",
      "['dem', 'büro', 'von', 'michael', 'müller']\n"
     ]
    }
   ],
   "source": [
    "current_subj = []\n",
    "\n",
    "for i, (g, tree) in enumerate(gs):\n",
    "    current_subj.append([])\n",
    "    for prop in g.getPropositions('pdf'):\n",
    "        for arg in prop.args:\n",
    "            if len(current_subj) > 0:\n",
    "                if current_subj[0] in words:\n",
    "                    print(\"Test\")\n",
    "            \n",
    "            words = arg[1].lower().split()\n",
    "            if i > 0 and len(current_subj[i-1]) > 0 and current_subj[i-1][0][0] in words:\n",
    "                words[words.index(current_subj[i-1][0][0])] = current_subj[i-1][0][1]\n",
    "                \n",
    "            article_pronoun = _map_article_of_subj_to_pronoun(arg)\n",
    "            if article_pronoun:\n",
    "                current_subj[i].append(article_pronoun)\n",
    "            \n",
    "            \n",
    "            "
   ]
  },
  {
   "cell_type": "markdown",
   "metadata": {},
   "source": [
    "Der regierende Bürgermeister fährt zum Rathaus.\n",
    "Im roten Rathaus geht er in den Sitzungssaal.\n",
    "Der alte Sitzungssaal liegt neben dem Büro von Michael Müller."
   ]
  },
  {
   "cell_type": "code",
   "execution_count": null,
   "metadata": {},
   "outputs": [],
   "source": []
  }
 ],
 "metadata": {
  "kernelspec": {
   "display_name": "Python 3",
   "language": "python",
   "name": "python3"
  },
  "language_info": {
   "codemirror_mode": {
    "name": "ipython",
    "version": 3
   },
   "file_extension": ".py",
   "mimetype": "text/x-python",
   "name": "python",
   "nbconvert_exporter": "python",
   "pygments_lexer": "ipython3",
   "version": "3.6.9"
  }
 },
 "nbformat": 4,
 "nbformat_minor": 4
}
