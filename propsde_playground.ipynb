{
 "cells": [
  {
   "cell_type": "code",
   "execution_count": 1,
   "metadata": {},
   "outputs": [],
   "source": [
    "import os, sys, codecs, time, datetime\n",
    "import fileinput\n",
    "import os.path\n",
    "from io import StringIO\n",
    "from subprocess import call\n",
    "\n",
    "\n",
    "from docopt import docopt\n",
    "from propsde.applications.viz_tree import DepTreeVisualizer\n",
    "\n",
    "import propsde.applications.run as run\n",
    "import sys\n",
    "if sys.version_info[0] >= 3:\n",
    "    unicode = str"
   ]
  },
  {
   "cell_type": "code",
   "execution_count": 2,
   "metadata": {},
   "outputs": [],
   "source": [
    "import pickle"
   ]
  },
  {
   "cell_type": "code",
   "execution_count": 3,
   "metadata": {},
   "outputs": [],
   "source": [
    "with open('polizeiberichte.pkl', 'rb') as f:\n",
    "    data = pickle.load(f, encoding=\"utf8\")"
   ]
  },
  {
   "cell_type": "code",
   "execution_count": 4,
   "metadata": {},
   "outputs": [],
   "source": [
    "text_example = data[0][\"text1\"]"
   ]
  },
  {
   "cell_type": "code",
   "execution_count": 5,
   "metadata": {},
   "outputs": [],
   "source": [
    "text_example = text_example.replace(\". \", \".\\n\")"
   ]
  },
  {
   "cell_type": "code",
   "execution_count": 6,
   "metadata": {},
   "outputs": [
    {
     "name": "stdout",
     "output_type": "stream",
     "text": [
      "Unbekannte griffen in der vergangenen Nacht einen Kiosk in Kreuzberg an.\n",
      "Gegen 0.40 Uhr bemerkten Zeugen eine Gruppe von ungefähr sieben Männern, die mehrere Steine gegen das Schaufenster des Geschäftes an der Graefestraße warfen und die Scheibe beschädigten.\n",
      "Anschließend schütteten die Angreifer eine Flüssigkeit gegen das Fenster und entzündeten sie.\n",
      "Die anschließenden Flammen sollen bis in das erste Obergeschoss gereicht haben, wurden jedoch von Anwohnern gelöscht.\n",
      "Die Tatverdächtigen flüchteten unerkannt in Richtung Hasenheide.\n",
      "Die Ermittlungen führt ein Brandkommissariat beim Landeskriminalamt Berlin.\n"
     ]
    }
   ],
   "source": [
    "print(text_example)"
   ]
  },
  {
   "cell_type": "code",
   "execution_count": 7,
   "metadata": {},
   "outputs": [
    {
     "name": "stdout",
     "output_type": "stream",
     "text": [
      "running mate-tools\n",
      "lemmatizing\n",
      "parsing + tagging\n",
      "collapsing\n",
      "java -jar ext/org.jobimtext.collapsing.jar -i tmp/parsed.conll06 -o tmp -sf -l de -r ext/resources/german_modified.txt -f c -np -nt\n",
      "SVP\n",
      "MO\n",
      "UFF\n",
      "UFF\n",
      "UFF\n",
      "MO\n"
     ]
    }
   ],
   "source": [
    "file = codecs.open(\"examples.txt\", encoding='utf8')\n",
    "gs = run.parseSentences(file)"
   ]
  },
  {
   "cell_type": "code",
   "execution_count": 8,
   "metadata": {},
   "outputs": [
    {
     "name": "stdout",
     "output_type": "stream",
     "text": [
      "angreifen:(subj:Unbekannte , dobj:einen Kiosk in Kreuzberg , prep_in:der vergangenen Nacht )\n",
      "bemerkt:(subj:Zeugen , dobj:eine Gruppe von ungefähr sieben Männern , die mehrere Steine gegen das Schaufenster des Geschäftes an der Graefestraße warfen und die Scheibe beschädigten , prep_gegen:0:40 Uhr )\n",
      "werfen:(subj:ungefähr sieben Männern , und die Scheibe beschädigten , dobj:mehrere Steine , prep_gegen:das Schaufenster des Geschäftes an der Graefestraße )\n",
      "entzünden:(subj:die Angreifer , dobj:sie )\n",
      "Anschließend schütten:(subj:die Angreifer , dobj:eine Flüssigkeit gegen das Fenster )\n",
      "und:(conj_und:Anschließend schütteten die Angreifer eine Flüssigkeit gegen das Fenster , conj_und:die Angreifer entzündeten sie )\n",
      "reichen:(subj:Die anschließenden Flammen , prep_in:das erste Obergeschoss )\n",
      "unerkannt flüchten:(subj:Die Tatverdächtigen , prep_in:Richtung Hasenheide )\n",
      "führen:(subj:ein Brandkommissariat , dobj:Die Ermittlungen , prep_bei:Landeskriminalamt Berlin )\n"
     ]
    }
   ],
   "source": [
    "for g,tree in gs: \n",
    "    for prop in g.getPropositions('pdf'):\n",
    "        curProp = '{0}:({1})'.format(prop.pred,\n",
    "                                      \", \".join([rel + \":\" + arg for rel,arg in sorted(prop.args,key=lambda rel:prop.rel_order(rel[0]))]))\n",
    "        print(curProp)"
   ]
  },
  {
   "cell_type": "code",
   "execution_count": 9,
   "metadata": {},
   "outputs": [
    {
     "name": "stdout",
     "output_type": "stream",
     "text": [
      "[['dobj', 'Die Ermittlungen '], ['subj', 'ein Brandkommissariat '], ['prep_bei', 'Landeskriminalamt Berlin ']]\n",
      "führen\n"
     ]
    }
   ],
   "source": [
    "prop = g.getPropositions('pdf')[0]\n",
    "print(prop.args)\n",
    "print(prop.pred)"
   ]
  },
  {
   "cell_type": "code",
   "execution_count": 33,
   "metadata": {},
   "outputs": [
    {
     "name": "stdout",
     "output_type": "stream",
     "text": [
      "Unbekannte griffen in der vergangenen Nacht einen Kiosk in Kreuzberg an .\n",
      "0\t1,Unbekannte\tNN\t0\t0\tsubj,87\n",
      "3\t5,vergangenen\tADJA\t0\t0\tmod,4\n",
      "4\t6,Nacht\tNN\t0\t0\tprep_in,87\n",
      "6\t8,Kiosk\tNN\t0\t0\tdobj,87\n",
      "8\t10,Kreuzberg\tNE\t0\t0\tprep_in,6\n",
      "87\t2,griffen;11,an\t\t1\t1\t\n",
      "\n"
     ]
    }
   ],
   "source": [
    "test = gs[0][0]\n",
    "print(test)"
   ]
  },
  {
   "cell_type": "code",
   "execution_count": 32,
   "metadata": {},
   "outputs": [
    {
     "name": "stdout",
     "output_type": "stream",
     "text": [
      "<TABLE BORDER=\"0\" CELLSPACING=\"0\"><TR><TD>Unbekannte<FONT POINT-SIZE=\"7\">[1]</FONT></TD></TR><TR><TD><FONT POINT-SIZE=\"10\">det: </FONT></TD></TR><TR><TD><FONT POINT-SIZE=\"10\">indefinite</FONT></TD></TR></TABLE>\n",
      "<TABLE BORDER=\"0\" CELLSPACING=\"0\"><TR><TD>vergangenen<FONT POINT-SIZE=\"7\">[5]</FONT></TD></TR><TR><TD><FONT POINT-SIZE=\"10\">det: </FONT></TD></TR><TR><TD><FONT POINT-SIZE=\"10\">indefinite</FONT></TD></TR></TABLE>\n",
      "<TABLE BORDER=\"0\" CELLSPACING=\"0\"><TR><TD>Nacht<FONT POINT-SIZE=\"7\">[6]</FONT></TD></TR><TR><TD><FONT POINT-SIZE=\"10\">det: </FONT></TD></TR><TR><TD><FONT POINT-SIZE=\"10\">indefinite</FONT></TD></TR></TABLE>\n",
      "<TABLE BORDER=\"0\" CELLSPACING=\"0\"><TR><TD>Kiosk<FONT POINT-SIZE=\"7\">[8]</FONT></TD></TR><TR><TD><FONT POINT-SIZE=\"10\">det: </FONT></TD></TR><TR><TD><FONT POINT-SIZE=\"10\">indefinite</FONT></TD></TR></TABLE>\n",
      "<TABLE BORDER=\"0\" CELLSPACING=\"0\"><TR><TD>Kreuzberg<FONT POINT-SIZE=\"7\">[10]</FONT></TD></TR><TR><TD><FONT POINT-SIZE=\"10\">det: </FONT></TD></TR><TR><TD><FONT POINT-SIZE=\"10\">definite</FONT></TD></TR></TABLE>\n",
      "<TABLE BORDER=\"0\" CELLSPACING=\"0\"><TR><TD>angreifen<FONT POINT-SIZE=\"7\">[2]</FONT></TD></TR><TR><TD><FONT POINT-SIZE=\"10\">past</FONT></TD></TR><TR><TD><FONT POINT-SIZE=\"10\">det: </FONT></TD></TR></TABLE>\n"
     ]
    }
   ],
   "source": [
    "for t in test:\n",
    "    print(t)"
   ]
  },
  {
   "cell_type": "code",
   "execution_count": null,
   "metadata": {},
   "outputs": [],
   "source": []
  }
 ],
 "metadata": {
  "kernelspec": {
   "display_name": "Python 3",
   "language": "python",
   "name": "python3"
  },
  "language_info": {
   "codemirror_mode": {
    "name": "ipython",
    "version": 3
   },
   "file_extension": ".py",
   "mimetype": "text/x-python",
   "name": "python",
   "nbconvert_exporter": "python",
   "pygments_lexer": "ipython3",
   "version": "3.6.9"
  }
 },
 "nbformat": 4,
 "nbformat_minor": 4
}
