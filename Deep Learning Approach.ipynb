{
 "cells": [
  {
   "cell_type": "code",
   "execution_count": 9,
   "metadata": {},
   "outputs": [],
   "source": [
    "from collections import defaultdict\n",
    "from conllu import parse\n"
   ]
  },
  {
   "cell_type": "code",
   "execution_count": 2,
   "metadata": {},
   "outputs": [],
   "source": [
    "def read_tuebadz_per_sentence(path):\n",
    "    i = 0\n",
    "    raw_data = {}\n",
    "    gold_standard = {}\n",
    "    sentences = defaultdict(list)\n",
    "    for line in open(path,'r').readlines():\n",
    "        li=line.strip()\n",
    "        if li.startswith(\"#\"):\n",
    "            li = li.split()\n",
    "            if li[1] == 'newdoc':\n",
    "                new_doc = li[4]\n",
    "                gold_standard[new_doc] = \"\"\n",
    "            if li[1] == 'sent_id':\n",
    "                sent_id = li[3]\n",
    "            if li[1] == 'text':\n",
    "                sentences[new_doc].append(line[9:].rstrip(\" \\n\"))\n",
    "        else:\n",
    "            gold_standard[new_doc] += line\n",
    "        #if i == 1000:\n",
    "        #    break\n",
    "        #i += 1\n",
    "    sentences[new_doc].append(line[9:].rstrip(\" \\n\"))\n",
    "    return sentences, gold_standard"
   ]
  },
  {
   "cell_type": "code",
   "execution_count": 3,
   "metadata": {},
   "outputs": [],
   "source": [
    "raw_sentences, gold_standard = read_tuebadz_per_sentence(\"tuebadz-11.0-conll-u-v2.txt\")"
   ]
  },
  {
   "cell_type": "code",
   "execution_count": 11,
   "metadata": {},
   "outputs": [],
   "source": [
    "for new_doc in gold_standard:\n",
    "    doc1 = parse(gold_standard[new_doc])\n",
    "    break"
   ]
  },
  {
   "cell_type": "code",
   "execution_count": 14,
   "metadata": {},
   "outputs": [
    {
     "name": "stdout",
     "output_type": "stream",
     "text": [
      "Token([('id', 1), ('form', 'Veruntreute'), ('lemma', 'veruntreuen'), ('upos', 'VERB'), ('xpos', 'VVFIN'), ('feats', OrderedDict([('Mood', 'Ind'), ('Number', 'Sing'), ('Person', '3'), ('Tense', 'Past'), ('VerbForm', 'Fin')])), ('head', 0), ('deprel', 'root'), ('deps', None), ('misc', OrderedDict([('Morph', '3sit'), ('TopoField', 'LK')]))])\n"
     ]
    }
   ],
   "source": [
    "print(doc1[0][0])"
   ]
  },
  {
   "cell_type": "code",
   "execution_count": null,
   "metadata": {},
   "outputs": [],
   "source": []
  }
 ],
 "metadata": {
  "kernelspec": {
   "display_name": "Python 3",
   "language": "python",
   "name": "python3"
  },
  "language_info": {
   "codemirror_mode": {
    "name": "ipython",
    "version": 3
   },
   "file_extension": ".py",
   "mimetype": "text/x-python",
   "name": "python",
   "nbconvert_exporter": "python",
   "pygments_lexer": "ipython3",
   "version": "3.6.9"
  }
 },
 "nbformat": 4,
 "nbformat_minor": 4
}
